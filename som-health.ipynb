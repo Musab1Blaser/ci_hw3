{
 "cells": [
  {
   "cell_type": "markdown",
   "metadata": {},
   "source": [
    "### In this notebook, we carry out clustering on the health data of different countries. We consider variables such as Infant mortality, fertility rate, physicians per thousand etc."
   ]
  },
  {
   "cell_type": "markdown",
   "metadata": {},
   "source": [
    "# Data Preparation"
   ]
  },
  {
   "cell_type": "code",
   "execution_count": 1,
   "metadata": {
    "_cell_guid": "b1076dfc-b9ad-4769-8c92-a6c4dae69d19",
    "_uuid": "8f2839f25d086af736a60e9eeb907d3b93b6e0e5",
    "execution": {
     "iopub.execute_input": "2025-04-09T06:09:06.522192Z",
     "iopub.status.busy": "2025-04-09T06:09:06.521711Z",
     "iopub.status.idle": "2025-04-09T06:09:06.527272Z",
     "shell.execute_reply": "2025-04-09T06:09:06.526094Z",
     "shell.execute_reply.started": "2025-04-09T06:09:06.522153Z"
    },
    "trusted": true
   },
   "outputs": [],
   "source": [
    "import numpy as np \n",
    "import pandas as pd "
   ]
  },
  {
   "cell_type": "code",
   "execution_count": 2,
   "metadata": {
    "execution": {
     "iopub.execute_input": "2025-04-09T06:09:06.528947Z",
     "iopub.status.busy": "2025-04-09T06:09:06.528560Z",
     "iopub.status.idle": "2025-04-09T06:09:06.573903Z",
     "shell.execute_reply": "2025-04-09T06:09:06.572459Z",
     "shell.execute_reply.started": "2025-04-09T06:09:06.528908Z"
    },
    "trusted": true
   },
   "outputs": [
    {
     "name": "stdout",
     "output_type": "stream",
     "text": [
      "(195, 35)\n",
      "Index(['Country', 'Density\\n(P/Km2)', 'Abbreviation', 'Agricultural Land( %)',\n",
      "       'Land Area(Km2)', 'Armed Forces size', 'Birth Rate', 'Calling Code',\n",
      "       'Capital/Major City', 'Co2-Emissions', 'CPI', 'CPI Change (%)',\n",
      "       'Currency-Code', 'Fertility Rate', 'Forested Area (%)',\n",
      "       'Gasoline Price', 'GDP', 'Gross primary education enrollment (%)',\n",
      "       'Gross tertiary education enrollment (%)', 'Infant mortality',\n",
      "       'Largest city', 'Life expectancy', 'Maternal mortality ratio',\n",
      "       'Minimum wage', 'Official language', 'Out of pocket health expenditure',\n",
      "       'Physicians per thousand', 'Population',\n",
      "       'Population: Labor force participation (%)', 'Tax revenue (%)',\n",
      "       'Total tax rate', 'Unemployment rate', 'Urban_population', 'Latitude',\n",
      "       'Longitude'],\n",
      "      dtype='object')\n",
      "----------------------------------------------------------------------------------------------------\n",
      "<bound method NDFrame.head of          Country Density\\n(P/Km2) Abbreviation Agricultural Land( %)  \\\n",
      "0    Afghanistan               60           AF                58.10%   \n",
      "1        Albania              105           AL                43.10%   \n",
      "2        Algeria               18           DZ                17.40%   \n",
      "3        Andorra              164           AD                40.00%   \n",
      "4         Angola               26           AO                47.50%   \n",
      "..           ...              ...          ...                   ...   \n",
      "190    Venezuela               32           VE                24.50%   \n",
      "191      Vietnam              314           VN                39.30%   \n",
      "192        Yemen               56           YE                44.60%   \n",
      "193       Zambia               25           ZM                32.10%   \n",
      "194     Zimbabwe               38           ZW                41.90%   \n",
      "\n",
      "    Land Area(Km2) Armed Forces size  Birth Rate  Calling Code  \\\n",
      "0          652,230           323,000       32.49          93.0   \n",
      "1           28,748             9,000       11.78         355.0   \n",
      "2        2,381,741           317,000       24.28         213.0   \n",
      "3              468               NaN        7.20         376.0   \n",
      "4        1,246,700           117,000       40.73         244.0   \n",
      "..             ...               ...         ...           ...   \n",
      "190        912,050           343,000       17.88          58.0   \n",
      "191        331,210           522,000       16.75          84.0   \n",
      "192        527,968            40,000       30.45         967.0   \n",
      "193        752,618            16,000       36.19         260.0   \n",
      "194        390,757            51,000       30.68         263.0   \n",
      "\n",
      "    Capital/Major City Co2-Emissions  ... Out of pocket health expenditure  \\\n",
      "0                Kabul         8,672  ...                           78.40%   \n",
      "1               Tirana         4,536  ...                           56.90%   \n",
      "2              Algiers       150,006  ...                           28.10%   \n",
      "3     Andorra la Vella           469  ...                           36.40%   \n",
      "4               Luanda        34,693  ...                           33.40%   \n",
      "..                 ...           ...  ...                              ...   \n",
      "190            Caracas       164,175  ...                           45.80%   \n",
      "191              Hanoi       192,668  ...                           43.50%   \n",
      "192              Sanaa        10,609  ...                           81.00%   \n",
      "193             Lusaka         5,141  ...                           27.50%   \n",
      "194             Harare        10,983  ...                           25.80%   \n",
      "\n",
      "    Physicians per thousand  Population  \\\n",
      "0                      0.28  38,041,754   \n",
      "1                      1.20   2,854,191   \n",
      "2                      1.72  43,053,054   \n",
      "3                      3.33      77,142   \n",
      "4                      0.21  31,825,295   \n",
      "..                      ...         ...   \n",
      "190                    1.92  28,515,829   \n",
      "191                    0.82  96,462,106   \n",
      "192                    0.31  29,161,922   \n",
      "193                    1.19  17,861,030   \n",
      "194                    0.21  14,645,468   \n",
      "\n",
      "     Population: Labor force participation (%) Tax revenue (%) Total tax rate  \\\n",
      "0                                       48.90%           9.30%         71.40%   \n",
      "1                                       55.70%          18.60%         36.60%   \n",
      "2                                       41.20%          37.20%         66.10%   \n",
      "3                                          NaN             NaN            NaN   \n",
      "4                                       77.50%           9.20%         49.10%   \n",
      "..                                         ...             ...            ...   \n",
      "190                                     59.70%             NaN         73.30%   \n",
      "191                                     77.40%          19.10%         37.60%   \n",
      "192                                     38.00%             NaN         26.60%   \n",
      "193                                     74.60%          16.20%         15.60%   \n",
      "194                                     83.10%          20.70%         31.60%   \n",
      "\n",
      "    Unemployment rate Urban_population   Latitude   Longitude  \n",
      "0              11.12%        9,797,273  33.939110   67.709953  \n",
      "1              12.33%        1,747,593  41.153332   20.168331  \n",
      "2              11.70%       31,510,100  28.033886    1.659626  \n",
      "3                 NaN           67,873  42.506285    1.521801  \n",
      "4               6.89%       21,061,025 -11.202692   17.873887  \n",
      "..                ...              ...        ...         ...  \n",
      "190             8.80%       25,162,368   6.423750  -66.589730  \n",
      "191             2.01%       35,332,140  14.058324  108.277199  \n",
      "192            12.91%       10,869,523  15.552727   48.516388  \n",
      "193            11.43%        7,871,713 -13.133897   27.849332  \n",
      "194             4.95%        4,717,305 -19.015438   29.154857  \n",
      "\n",
      "[195 rows x 35 columns]>\n"
     ]
    }
   ],
   "source": [
    "df = pd.read_csv(\"world-data-2023.csv\") # Contains data of 195 countries across 35 variables (not all health related)\n",
    "print(df.shape)\n",
    "print(df.columns)\n",
    "print(\"-\"*100)\n",
    "print(df.head)"
   ]
  },
  {
   "cell_type": "markdown",
   "metadata": {},
   "source": [
    "#### Extracting the health related data"
   ]
  },
  {
   "cell_type": "code",
   "execution_count": 3,
   "metadata": {
    "execution": {
     "iopub.execute_input": "2025-04-09T06:09:06.576020Z",
     "iopub.status.busy": "2025-04-09T06:09:06.575693Z",
     "iopub.status.idle": "2025-04-09T06:09:06.583407Z",
     "shell.execute_reply": "2025-04-09T06:09:06.582285Z",
     "shell.execute_reply.started": "2025-04-09T06:09:06.575992Z"
    },
    "trusted": true
   },
   "outputs": [],
   "source": [
    "health_variables = ['Birth Rate', 'Fertility Rate', 'Infant mortality', 'Life expectancy', 'Maternal mortality ratio', 'Out of pocket health expenditure', 'Physicians per thousand']\n",
    "health_df = df[['Country', 'Abbreviation'] + health_variables]"
   ]
  },
  {
   "cell_type": "code",
   "execution_count": 4,
   "metadata": {
    "execution": {
     "iopub.execute_input": "2025-04-09T06:09:06.585838Z",
     "iopub.status.busy": "2025-04-09T06:09:06.585070Z",
     "iopub.status.idle": "2025-04-09T06:09:06.614668Z",
     "shell.execute_reply": "2025-04-09T06:09:06.612795Z",
     "shell.execute_reply.started": "2025-04-09T06:09:06.585767Z"
    },
    "trusted": true
   },
   "outputs": [
    {
     "name": "stdout",
     "output_type": "stream",
     "text": [
      "Index(['Country', 'Abbreviation', 'Birth Rate', 'Fertility Rate',\n",
      "       'Infant mortality', 'Life expectancy', 'Maternal mortality ratio',\n",
      "       'Out of pocket health expenditure', 'Physicians per thousand'],\n",
      "      dtype='object')\n",
      "----------------------------------------------------------------------------------------------------\n",
      "<bound method NDFrame.head of          Country Abbreviation  Birth Rate  Fertility Rate  Infant mortality  \\\n",
      "0    Afghanistan           AF       32.49            4.47              47.9   \n",
      "1        Albania           AL       11.78            1.62               7.8   \n",
      "2        Algeria           DZ       24.28            3.02              20.1   \n",
      "3        Andorra           AD        7.20            1.27               2.7   \n",
      "4         Angola           AO       40.73            5.52              51.6   \n",
      "..           ...          ...         ...             ...               ...   \n",
      "190    Venezuela           VE       17.88            2.27              21.4   \n",
      "191      Vietnam           VN       16.75            2.05              16.5   \n",
      "192        Yemen           YE       30.45            3.79              42.9   \n",
      "193       Zambia           ZM       36.19            4.63              40.4   \n",
      "194     Zimbabwe           ZW       30.68            3.62              33.9   \n",
      "\n",
      "     Life expectancy  Maternal mortality ratio  \\\n",
      "0               64.5                     638.0   \n",
      "1               78.5                      15.0   \n",
      "2               76.7                     112.0   \n",
      "3                NaN                       NaN   \n",
      "4               60.8                     241.0   \n",
      "..               ...                       ...   \n",
      "190             72.1                     125.0   \n",
      "191             75.3                      43.0   \n",
      "192             66.1                     164.0   \n",
      "193             63.5                     213.0   \n",
      "194             61.2                     458.0   \n",
      "\n",
      "    Out of pocket health expenditure  Physicians per thousand  \n",
      "0                             78.40%                     0.28  \n",
      "1                             56.90%                     1.20  \n",
      "2                             28.10%                     1.72  \n",
      "3                             36.40%                     3.33  \n",
      "4                             33.40%                     0.21  \n",
      "..                               ...                      ...  \n",
      "190                           45.80%                     1.92  \n",
      "191                           43.50%                     0.82  \n",
      "192                           81.00%                     0.31  \n",
      "193                           27.50%                     1.19  \n",
      "194                           25.80%                     0.21  \n",
      "\n",
      "[195 rows x 9 columns]>\n"
     ]
    }
   ],
   "source": [
    "print(health_df.columns)\n",
    "print(\"-\"*100)\n",
    "print(health_df.head)"
   ]
  },
  {
   "cell_type": "markdown",
   "metadata": {},
   "source": [
    "#### Removing records with missing data (this will mean some countries will not be considered in clustering and will be grayed out in visualisation)"
   ]
  },
  {
   "cell_type": "code",
   "execution_count": 5,
   "metadata": {
    "execution": {
     "iopub.execute_input": "2025-04-09T06:09:06.616189Z",
     "iopub.status.busy": "2025-04-09T06:09:06.615859Z",
     "iopub.status.idle": "2025-04-09T06:09:06.629737Z",
     "shell.execute_reply": "2025-04-09T06:09:06.628537Z",
     "shell.execute_reply.started": "2025-04-09T06:09:06.616160Z"
    },
    "trusted": true
   },
   "outputs": [
    {
     "name": "stdout",
     "output_type": "stream",
     "text": [
      "195\n"
     ]
    }
   ],
   "source": [
    "nan_rows = health_df.isnull().any(axis=1)\n",
    "print(len(nan_rows))"
   ]
  },
  {
   "cell_type": "code",
   "execution_count": 6,
   "metadata": {
    "execution": {
     "iopub.execute_input": "2025-04-09T06:09:06.631094Z",
     "iopub.status.busy": "2025-04-09T06:09:06.630756Z",
     "iopub.status.idle": "2025-04-09T06:09:06.658198Z",
     "shell.execute_reply": "2025-04-09T06:09:06.656890Z",
     "shell.execute_reply.started": "2025-04-09T06:09:06.631067Z"
    },
    "trusted": true
   },
   "outputs": [
    {
     "name": "stdout",
     "output_type": "stream",
     "text": [
      "                            Country Abbreviation  Birth Rate  Fertility Rate  \\\n",
      "3                           Andorra           AD        7.20            1.27   \n",
      "39            Republic of the Congo          NaN       32.86            4.43   \n",
      "42                             Cuba           CU       10.17            1.62   \n",
      "48                         Dominica           DM       12.00            1.90   \n",
      "56                         Eswatini          NaN         NaN             NaN   \n",
      "73                     Vatican City          NaN         NaN             NaN   \n",
      "81              Republic of Ireland          NaN       12.50            1.75   \n",
      "98                    Liechtenstein           LI        9.90            1.44   \n",
      "107                Marshall Islands           MH       29.03            4.05   \n",
      "113                          Monaco           MC        5.90             NaN   \n",
      "119                         Namibia          NaN       28.64            3.40   \n",
      "120                           Nauru           NR         NaN             NaN   \n",
      "127                     North Korea           KP       13.89            1.90   \n",
      "128                 North Macedonia          NaN         NaN             NaN   \n",
      "132                           Palau           PW       14.00            2.21   \n",
      "133  Palestinian National Authority          NaN         NaN             NaN   \n",
      "145           Saint Kitts and Nevis           KN       12.60            2.11   \n",
      "149                      San Marino           SM        6.80            1.26   \n",
      "160                         Somalia           SO       41.75            6.07   \n",
      "163                     South Sudan           SS       35.01            4.70   \n",
      "181                          Tuvalu           TV         NaN             NaN   \n",
      "\n",
      "     Infant mortality  Life expectancy  Maternal mortality ratio  \\\n",
      "3                 2.7              NaN                       NaN   \n",
      "39               36.2             64.3                     378.0   \n",
      "42                3.7             78.7                      36.0   \n",
      "48               32.9             76.6                       NaN   \n",
      "56                NaN              NaN                       NaN   \n",
      "73                NaN              NaN                       NaN   \n",
      "81                3.1             82.3                       5.0   \n",
      "98                NaN             83.0                       NaN   \n",
      "107              27.4             65.2                       NaN   \n",
      "113               2.6              NaN                       NaN   \n",
      "119              29.0             63.4                     195.0   \n",
      "120               NaN              NaN                       NaN   \n",
      "127              13.7             72.1                      89.0   \n",
      "128               NaN              NaN                       NaN   \n",
      "132              16.6             69.1                       NaN   \n",
      "133               NaN              NaN                       NaN   \n",
      "145               9.8             71.3                       NaN   \n",
      "149               1.7             85.4                       NaN   \n",
      "160              76.6             57.1                     829.0   \n",
      "163              63.7             57.6                    1150.0   \n",
      "181              20.6              NaN                       NaN   \n",
      "\n",
      "    Out of pocket health expenditure  Physicians per thousand  \n",
      "3                             36.40%                     3.33  \n",
      "39                            43.80%                     0.12  \n",
      "42                               NaN                     8.42  \n",
      "48                            28.40%                     1.08  \n",
      "56                            11.30%                      NaN  \n",
      "73                               NaN                      NaN  \n",
      "81                            15.20%                     3.31  \n",
      "98                               NaN                      NaN  \n",
      "107                           10.00%                     0.42  \n",
      "113                            6.10%                     6.56  \n",
      "119                            8.30%                     0.42  \n",
      "120                              NaN                      NaN  \n",
      "127                              NaN                     3.67  \n",
      "128                           35.60%                      NaN  \n",
      "132                           21.80%                     1.18  \n",
      "133                              NaN                      NaN  \n",
      "145                           56.60%                     2.52  \n",
      "149                           18.30%                     6.11  \n",
      "160                              NaN                     0.02  \n",
      "163                           61.30%                      NaN  \n",
      "181                            0.70%                     0.92  \n"
     ]
    }
   ],
   "source": [
    "print(health_df[nan_rows])"
   ]
  },
  {
   "cell_type": "code",
   "execution_count": 7,
   "metadata": {
    "execution": {
     "iopub.execute_input": "2025-04-09T06:09:06.661085Z",
     "iopub.status.busy": "2025-04-09T06:09:06.660740Z",
     "iopub.status.idle": "2025-04-09T06:09:06.686992Z",
     "shell.execute_reply": "2025-04-09T06:09:06.685791Z",
     "shell.execute_reply.started": "2025-04-09T06:09:06.661057Z"
    },
    "trusted": true
   },
   "outputs": [
    {
     "name": "stderr",
     "output_type": "stream",
     "text": [
      "/tmp/ipykernel_15373/3069228532.py:1: SettingWithCopyWarning: \n",
      "A value is trying to be set on a copy of a slice from a DataFrame\n",
      "\n",
      "See the caveats in the documentation: https://pandas.pydata.org/pandas-docs/stable/user_guide/indexing.html#returning-a-view-versus-a-copy\n",
      "  health_df.dropna(inplace=True)\n"
     ]
    }
   ],
   "source": [
    "health_df.dropna(inplace=True)"
   ]
  },
  {
   "cell_type": "code",
   "execution_count": 8,
   "metadata": {
    "execution": {
     "iopub.execute_input": "2025-04-09T06:09:06.688859Z",
     "iopub.status.busy": "2025-04-09T06:09:06.688553Z",
     "iopub.status.idle": "2025-04-09T06:09:06.709149Z",
     "shell.execute_reply": "2025-04-09T06:09:06.707957Z",
     "shell.execute_reply.started": "2025-04-09T06:09:06.688829Z"
    },
    "trusted": true
   },
   "outputs": [
    {
     "name": "stdout",
     "output_type": "stream",
     "text": [
      "(174, 9)\n",
      "0\n"
     ]
    }
   ],
   "source": [
    "print(health_df.shape)\n",
    "print(health_df.isnull().any(axis=1).sum())"
   ]
  },
  {
   "cell_type": "markdown",
   "metadata": {},
   "source": [
    "#### Mapping % variable to range [0, 1]"
   ]
  },
  {
   "cell_type": "code",
   "execution_count": 9,
   "metadata": {
    "execution": {
     "iopub.execute_input": "2025-04-09T06:09:06.710648Z",
     "iopub.status.busy": "2025-04-09T06:09:06.710313Z",
     "iopub.status.idle": "2025-04-09T06:09:06.728909Z",
     "shell.execute_reply": "2025-04-09T06:09:06.727578Z",
     "shell.execute_reply.started": "2025-04-09T06:09:06.710621Z"
    },
    "trusted": true
   },
   "outputs": [
    {
     "name": "stderr",
     "output_type": "stream",
     "text": [
      "/tmp/ipykernel_15373/498667147.py:1: SettingWithCopyWarning: \n",
      "A value is trying to be set on a copy of a slice from a DataFrame.\n",
      "Try using .loc[row_indexer,col_indexer] = value instead\n",
      "\n",
      "See the caveats in the documentation: https://pandas.pydata.org/pandas-docs/stable/user_guide/indexing.html#returning-a-view-versus-a-copy\n",
      "  health_df['Out of pocket health expenditure'] = health_df['Out of pocket health expenditure'].str.rstrip('%').astype(float) / 100\n"
     ]
    }
   ],
   "source": [
    "health_df['Out of pocket health expenditure'] = health_df['Out of pocket health expenditure'].str.rstrip('%').astype(float) / 100"
   ]
  },
  {
   "cell_type": "code",
   "execution_count": 10,
   "metadata": {
    "execution": {
     "iopub.execute_input": "2025-04-09T06:09:06.731182Z",
     "iopub.status.busy": "2025-04-09T06:09:06.730652Z",
     "iopub.status.idle": "2025-04-09T06:09:06.754878Z",
     "shell.execute_reply": "2025-04-09T06:09:06.753491Z",
     "shell.execute_reply.started": "2025-04-09T06:09:06.731144Z"
    },
    "trusted": true
   },
   "outputs": [
    {
     "name": "stdout",
     "output_type": "stream",
     "text": [
      "<bound method NDFrame.head of                  Country Abbreviation  Birth Rate  Fertility Rate  \\\n",
      "0            Afghanistan           AF       32.49            4.47   \n",
      "1                Albania           AL       11.78            1.62   \n",
      "2                Algeria           DZ       24.28            3.02   \n",
      "4                 Angola           AO       40.73            5.52   \n",
      "5    Antigua and Barbuda           AG       15.33            1.99   \n",
      "..                   ...          ...         ...             ...   \n",
      "190            Venezuela           VE       17.88            2.27   \n",
      "191              Vietnam           VN       16.75            2.05   \n",
      "192                Yemen           YE       30.45            3.79   \n",
      "193               Zambia           ZM       36.19            4.63   \n",
      "194             Zimbabwe           ZW       30.68            3.62   \n",
      "\n",
      "     Infant mortality  Life expectancy  Maternal mortality ratio  \\\n",
      "0                47.9             64.5                     638.0   \n",
      "1                 7.8             78.5                      15.0   \n",
      "2                20.1             76.7                     112.0   \n",
      "4                51.6             60.8                     241.0   \n",
      "5                 5.0             76.9                      42.0   \n",
      "..                ...              ...                       ...   \n",
      "190              21.4             72.1                     125.0   \n",
      "191              16.5             75.3                      43.0   \n",
      "192              42.9             66.1                     164.0   \n",
      "193              40.4             63.5                     213.0   \n",
      "194              33.9             61.2                     458.0   \n",
      "\n",
      "     Out of pocket health expenditure  Physicians per thousand  \n",
      "0                               0.784                     0.28  \n",
      "1                               0.569                     1.20  \n",
      "2                               0.281                     1.72  \n",
      "4                               0.334                     0.21  \n",
      "5                               0.243                     2.76  \n",
      "..                                ...                      ...  \n",
      "190                             0.458                     1.92  \n",
      "191                             0.435                     0.82  \n",
      "192                             0.810                     0.31  \n",
      "193                             0.275                     1.19  \n",
      "194                             0.258                     0.21  \n",
      "\n",
      "[174 rows x 9 columns]>\n"
     ]
    }
   ],
   "source": [
    "print(health_df.head)"
   ]
  },
  {
   "cell_type": "code",
   "execution_count": 11,
   "metadata": {
    "execution": {
     "iopub.execute_input": "2025-04-09T06:09:06.756456Z",
     "iopub.status.busy": "2025-04-09T06:09:06.756054Z",
     "iopub.status.idle": "2025-04-09T06:09:06.773605Z",
     "shell.execute_reply": "2025-04-09T06:09:06.772468Z",
     "shell.execute_reply.started": "2025-04-09T06:09:06.756426Z"
    },
    "trusted": true
   },
   "outputs": [
    {
     "name": "stdout",
     "output_type": "stream",
     "text": [
      "0\n"
     ]
    }
   ],
   "source": [
    "print(health_df.isnull().any(axis=1).sum()) # no null values introduced in mapping percentage"
   ]
  },
  {
   "cell_type": "code",
   "execution_count": 12,
   "metadata": {
    "execution": {
     "iopub.execute_input": "2025-04-09T06:09:06.776401Z",
     "iopub.status.busy": "2025-04-09T06:09:06.775865Z",
     "iopub.status.idle": "2025-04-09T06:09:06.815581Z",
     "shell.execute_reply": "2025-04-09T06:09:06.813713Z",
     "shell.execute_reply.started": "2025-04-09T06:09:06.776159Z"
    },
    "trusted": true
   },
   "outputs": [
    {
     "name": "stdout",
     "output_type": "stream",
     "text": [
      "      Birth Rate  Fertility Rate  Infant mortality  Life expectancy  \\\n",
      "mean   20.392989        2.696207         21.216092        72.357471   \n",
      "min     6.400000        0.980000          1.400000        52.800000   \n",
      "25%    11.425000        1.710000          6.100000        67.375000   \n",
      "75%    28.625000        3.585000         32.475000        77.375000   \n",
      "max    46.080000        6.910000         84.500000        84.200000   \n",
      "\n",
      "      Maternal mortality ratio  Out of pocket health expenditure  \\\n",
      "mean                151.431034                          0.332299   \n",
      "min                   2.000000                          0.002000   \n",
      "25%                  12.250000                          0.178250   \n",
      "75%                 181.500000                          0.449500   \n",
      "max                1140.000000                          0.816000   \n",
      "\n",
      "      Physicians per thousand  \n",
      "mean                 1.769023  \n",
      "min                  0.010000  \n",
      "25%                  0.310000  \n",
      "75%                  2.860000  \n",
      "max                  7.120000  \n"
     ]
    }
   ],
   "source": [
    "summary_stats = health_df.describe().loc[['mean', 'min', '25%', '75%', 'max']]\n",
    "print(summary_stats)"
   ]
  },
  {
   "cell_type": "markdown",
   "metadata": {},
   "source": [
    "### Normalising variable values to [0, 1] so no variable overpowers clustering"
   ]
  },
  {
   "cell_type": "code",
   "execution_count": 13,
   "metadata": {
    "execution": {
     "iopub.execute_input": "2025-04-09T06:09:06.817978Z",
     "iopub.status.busy": "2025-04-09T06:09:06.817602Z",
     "iopub.status.idle": "2025-04-09T06:09:06.838542Z",
     "shell.execute_reply": "2025-04-09T06:09:06.837354Z",
     "shell.execute_reply.started": "2025-04-09T06:09:06.817942Z"
    },
    "trusted": true
   },
   "outputs": [
    {
     "data": {
      "text/plain": [
       "<bound method NDFrame.head of                  Country Abbreviation  Birth Rate  Fertility Rate  \\\n",
       "0            Afghanistan           AF    0.657510        0.588533   \n",
       "1                Albania           AL    0.135585        0.107926   \n",
       "2                Algeria           DZ    0.450605        0.344013   \n",
       "4                 Angola           AO    0.865171        0.765599   \n",
       "5    Antigua and Barbuda           AG    0.225050        0.170320   \n",
       "..                   ...          ...         ...             ...   \n",
       "190            Venezuela           VE    0.289315        0.217538   \n",
       "191              Vietnam           VN    0.260837        0.180438   \n",
       "192                Yemen           YE    0.606099        0.473862   \n",
       "193               Zambia           ZM    0.750756        0.615514   \n",
       "194             Zimbabwe           ZW    0.611895        0.445194   \n",
       "\n",
       "     Infant mortality  Life expectancy  Maternal mortality ratio  \\\n",
       "0            0.559567         0.372611                  0.558875   \n",
       "1            0.077016         0.818471                  0.011424   \n",
       "2            0.225030         0.761146                  0.096661   \n",
       "4            0.604091         0.254777                  0.210018   \n",
       "5            0.043321         0.767516                  0.035149   \n",
       "..                ...              ...                       ...   \n",
       "190          0.240674         0.614650                  0.108084   \n",
       "191          0.181709         0.716561                  0.036028   \n",
       "192          0.499398         0.423567                  0.142355   \n",
       "193          0.469314         0.340764                  0.185413   \n",
       "194          0.391095         0.267516                  0.400703   \n",
       "\n",
       "     Out of pocket health expenditure  Physicians per thousand  \n",
       "0                            0.960688                 0.037975  \n",
       "1                            0.696560                 0.167370  \n",
       "2                            0.342752                 0.240506  \n",
       "4                            0.407862                 0.028129  \n",
       "5                            0.296069                 0.386779  \n",
       "..                                ...                      ...  \n",
       "190                          0.560197                 0.268636  \n",
       "191                          0.531941                 0.113924  \n",
       "192                          0.992629                 0.042194  \n",
       "193                          0.335381                 0.165963  \n",
       "194                          0.314496                 0.028129  \n",
       "\n",
       "[174 rows x 9 columns]>"
      ]
     },
     "execution_count": 13,
     "metadata": {},
     "output_type": "execute_result"
    }
   ],
   "source": [
    "normalized_vars = health_df[health_variables].apply(lambda x: (x - x.min()) / (x.max() - x.min()))\n",
    "norm_health_df = pd.concat([health_df[['Country', 'Abbreviation']], normalized_vars], axis=1)\n",
    "norm_health_df.head"
   ]
  },
  {
   "cell_type": "markdown",
   "metadata": {},
   "source": [
    "#### Investigating distrbution of data to determine if min-max normalisation is reasonable or if another normalisation must be used"
   ]
  },
  {
   "cell_type": "code",
   "execution_count": 14,
   "metadata": {
    "execution": {
     "iopub.execute_input": "2025-04-09T06:09:06.839976Z",
     "iopub.status.busy": "2025-04-09T06:09:06.839669Z",
     "iopub.status.idle": "2025-04-09T06:09:06.874545Z",
     "shell.execute_reply": "2025-04-09T06:09:06.873274Z",
     "shell.execute_reply.started": "2025-04-09T06:09:06.839940Z"
    },
    "trusted": true
   },
   "outputs": [
    {
     "name": "stdout",
     "output_type": "stream",
     "text": [
      "      Birth Rate  Fertility Rate  Infant mortality  Life expectancy  \\\n",
      "mean    0.352646        0.289411          0.238461         0.622849   \n",
      "min     0.000000        0.000000          0.000000         0.000000   \n",
      "25%     0.126638        0.123103          0.056558         0.464172   \n",
      "75%     0.560106        0.439292          0.373947         0.782643   \n",
      "max     1.000000        1.000000          1.000000         1.000000   \n",
      "\n",
      "      Maternal mortality ratio  Out of pocket health expenditure  \\\n",
      "mean                  0.131310                          0.405773   \n",
      "min                   0.000000                          0.000000   \n",
      "25%                   0.009007                          0.216523   \n",
      "75%                   0.157733                          0.549754   \n",
      "max                   1.000000                          1.000000   \n",
      "\n",
      "      Physicians per thousand  \n",
      "mean                 0.247401  \n",
      "min                  0.000000  \n",
      "25%                  0.042194  \n",
      "75%                  0.400844  \n",
      "max                  1.000000  \n"
     ]
    }
   ],
   "source": [
    "summary_stats = norm_health_df.describe().loc[['mean', 'min', '25%', '75%', 'max']]\n",
    "print(summary_stats)"
   ]
  },
  {
   "cell_type": "markdown",
   "metadata": {},
   "source": [
    "Each variable seems to show reasonable distribution so we stick with min-max normalisation"
   ]
  },
  {
   "cell_type": "markdown",
   "metadata": {},
   "source": [
    "## SOM"
   ]
  },
  {
   "cell_type": "code",
   "execution_count": 15,
   "metadata": {
    "execution": {
     "iopub.execute_input": "2025-04-09T06:09:06.876064Z",
     "iopub.status.busy": "2025-04-09T06:09:06.875765Z",
     "iopub.status.idle": "2025-04-09T06:09:06.881834Z",
     "shell.execute_reply": "2025-04-09T06:09:06.880499Z",
     "shell.execute_reply.started": "2025-04-09T06:09:06.876040Z"
    },
    "trusted": true
   },
   "outputs": [],
   "source": [
    "num_vars = len(health_variables)\n",
    "K = 10\n",
    "J = 10"
   ]
  },
  {
   "cell_type": "markdown",
   "metadata": {},
   "source": [
    "### Initialise"
   ]
  },
  {
   "cell_type": "code",
   "execution_count": 16,
   "metadata": {
    "execution": {
     "iopub.execute_input": "2025-04-09T06:09:06.883528Z",
     "iopub.status.busy": "2025-04-09T06:09:06.883137Z",
     "iopub.status.idle": "2025-04-09T06:09:06.901497Z",
     "shell.execute_reply": "2025-04-09T06:09:06.899726Z",
     "shell.execute_reply.started": "2025-04-09T06:09:06.883499Z"
    },
    "trusted": true
   },
   "outputs": [],
   "source": [
    "# Making an KxJ grid of neurons where each neuron has num_vars (7) weights. We use random initialisation\n",
    "SOM = np.random.rand(K, J, num_vars)"
   ]
  },
  {
   "cell_type": "markdown",
   "metadata": {},
   "source": [
    "### Visualise"
   ]
  },
  {
   "cell_type": "code",
   "execution_count": 17,
   "metadata": {
    "execution": {
     "iopub.execute_input": "2025-04-09T06:09:06.903057Z",
     "iopub.status.busy": "2025-04-09T06:09:06.902666Z",
     "iopub.status.idle": "2025-04-09T06:09:06.984505Z",
     "shell.execute_reply": "2025-04-09T06:09:06.983517Z",
     "shell.execute_reply.started": "2025-04-09T06:09:06.903028Z"
    },
    "trusted": true
   },
   "outputs": [
    {
     "data": {
      "image/png": "[encoded data removed]",
      "text/plain": [
       "<Figure size 640x480 with 1 Axes>"
      ]
     },
     "metadata": {},
     "output_type": "display_data"
    }
   ],
   "source": [
    "from sklearn.decomposition import PCA\n",
    "import matplotlib.pyplot as plt\n",
    "\n",
    "def visualise_som(SOM): # to visualise, we reduce our 7 dimensional weights to 3 dimensions, where each can represent the intensity of the (R, G, B) channels respectively\n",
    "    n_components = 3\n",
    "    pca = PCA(n_components=n_components)\n",
    "    \n",
    "    # Reshape the SOM to (height * width, features)\n",
    "    X = SOM.reshape(SOM.shape[0] * SOM.shape[1], -1)\n",
    "    \n",
    "    # Apply PCA\n",
    "    X_fit = pca.fit_transform(X)\n",
    "    \n",
    "    # Min-max normalization: scale each channel (RGB) to [0, 1]\n",
    "    X_min = X_fit.min(axis=0)  # min per component (RGB)\n",
    "    X_max = X_fit.max(axis=0)  # max per component (RGB)\n",
    "    X_fit = (X_fit - X_min) / (X_max - X_min)  # Normalize each component\n",
    "    \n",
    "    # Reshape back to SOM grid (height, width, n_components)\n",
    "    X_fit = X_fit.reshape(SOM.shape[0], SOM.shape[1], n_components)\n",
    "    \n",
    "    # Plot the SOM as an RGB image\n",
    "    plt.imshow(X_fit)\n",
    "    plt.axis('off')  # Hide axes for better visualization\n",
    "    plt.show()\n",
    "    return X_fit\n",
    "\n",
    "# View initial grid\n",
    "_ = visualise_som(SOM)"
   ]
  },
  {
   "cell_type": "markdown",
   "metadata": {},
   "source": [
    "### Functions that enable our SOM to learn"
   ]
  },
  {
   "cell_type": "code",
   "execution_count": 18,
   "metadata": {
    "execution": {
     "iopub.execute_input": "2025-04-09T06:09:06.985831Z",
     "iopub.status.busy": "2025-04-09T06:09:06.985550Z",
     "iopub.status.idle": "2025-04-09T06:09:06.991390Z",
     "shell.execute_reply": "2025-04-09T06:09:06.990066Z",
     "shell.execute_reply.started": "2025-04-09T06:09:06.985807Z"
    },
    "trusted": true
   },
   "outputs": [],
   "source": [
    "def get_best_match(SOM, record_values): # Find best matching neuron by taking distance with all and identifying neuron with least distance - return distance and neuron location (row, column)\n",
    "    distances = np.linalg.norm(SOM - record_values, axis=2) # Using numpy broadcasting for efficient calculation\n",
    "    min_row, min_col = np.unravel_index(np.argmin(distances), distances.shape)\n",
    "    min_dist = distances[min_row][min_col]\n",
    "    return min_dist, min_row, min_col"
   ]
  },
  {
   "cell_type": "code",
   "execution_count": 19,
   "metadata": {
    "execution": {
     "iopub.execute_input": "2025-04-09T06:09:06.992893Z",
     "iopub.status.busy": "2025-04-09T06:09:06.992602Z",
     "iopub.status.idle": "2025-04-09T06:09:07.009741Z",
     "shell.execute_reply": "2025-04-09T06:09:07.008556Z",
     "shell.execute_reply.started": "2025-04-09T06:09:06.992870Z"
    },
    "trusted": true
   },
   "outputs": [],
   "source": [
    "def update_weights(SOM, record_values, min_row, min_col, cur_lr, cur_radius): # Update weight based on the position of current neuron and best matching neuron\n",
    "    for i in range(SOM.shape[0]):\n",
    "        for j in range(SOM.shape[1]):\n",
    "            dist = np.linalg.norm((min_row - i, min_col - j))\n",
    "            h = cur_lr * (np.exp( -(np.square(dist)) / (2*np.square(cur_radius)) )) # Formula taken from book - determines degree of influence based on distance and neighbourhood radius\n",
    "            SOM[i][j] += h*(record_values - SOM[i][j]) # Update weight"
   ]
  },
  {
   "cell_type": "markdown",
   "metadata": {},
   "source": [
    "#### Hyperparameters"
   ]
  },
  {
   "cell_type": "code",
   "execution_count": 20,
   "metadata": {
    "execution": {
     "iopub.execute_input": "2025-04-09T06:09:07.013533Z",
     "iopub.status.busy": "2025-04-09T06:09:07.013180Z",
     "iopub.status.idle": "2025-04-09T06:09:07.032339Z",
     "shell.execute_reply": "2025-04-09T06:09:07.031136Z",
     "shell.execute_reply.started": "2025-04-09T06:09:07.013504Z"
    },
    "trusted": true
   },
   "outputs": [],
   "source": [
    "init_lr = 1e-3 # initial learning rate\n",
    "lr_decay = 0.9 # learning rate decay\n",
    "init_radius = K/2 # initial neighbourhood radius\n",
    "radius_decay = 0.9 # neighbourhood radius decay"
   ]
  },
  {
   "cell_type": "markdown",
   "metadata": {},
   "source": [
    "### Train SOM on data"
   ]
  },
  {
   "cell_type": "code",
   "execution_count": 21,
   "metadata": {
    "execution": {
     "iopub.execute_input": "2025-04-09T06:09:07.034667Z",
     "iopub.status.busy": "2025-04-09T06:09:07.034011Z",
     "iopub.status.idle": "2025-04-09T06:09:42.736894Z",
     "shell.execute_reply": "2025-04-09T06:09:42.735787Z",
     "shell.execute_reply.started": "2025-04-09T06:09:07.034634Z"
    },
    "trusted": true
   },
   "outputs": [
    {
     "name": "stdout",
     "output_type": "stream",
     "text": [
      "Epoch: 0/100 - Average error: 0.5508524185153455\n",
      "Epoch: 1/100 - Average error: 0.5143277019508473\n",
      "Epoch: 2/100 - Average error: 0.4852090824715444\n",
      "Epoch: 3/100 - Average error: 0.4632131960680204\n",
      "Epoch: 4/100 - Average error: 0.44760058493877336\n",
      "Epoch: 5/100 - Average error: 0.43787957240725744\n",
      "Epoch: 6/100 - Average error: 0.432912236478729\n",
      "Epoch: 7/100 - Average error: 0.43051474317939925\n",
      "Epoch: 8/100 - Average error: 0.42925766078118066\n",
      "Epoch: 9/100 - Average error: 0.4280827771317762\n",
      "Epoch: 10/100 - Average error: 0.4262725136455364\n",
      "Epoch: 11/100 - Average error: 0.4231299839098091\n",
      "Epoch: 12/100 - Average error: 0.4192054249479379\n",
      "Epoch: 13/100 - Average error: 0.41540751959449945\n",
      "Epoch: 14/100 - Average error: 0.41192085248511295\n",
      "Epoch: 15/100 - Average error: 0.4084950625462291\n",
      "Epoch: 16/100 - Average error: 0.4052304331255284\n",
      "Epoch: 17/100 - Average error: 0.4019404431260298\n",
      "Epoch: 18/100 - Average error: 0.39861185123692683\n",
      "Epoch: 19/100 - Average error: 0.3955180075578097\n",
      "Epoch: 20/100 - Average error: 0.3928020628253141\n",
      "Epoch: 21/100 - Average error: 0.39040994901280635\n",
      "Epoch: 22/100 - Average error: 0.38816494420330655\n",
      "Epoch: 23/100 - Average error: 0.3860143098028575\n",
      "Epoch: 24/100 - Average error: 0.38394612064414446\n",
      "Epoch: 25/100 - Average error: 0.3818523245562161\n",
      "Epoch: 26/100 - Average error: 0.37978218842931144\n",
      "Epoch: 27/100 - Average error: 0.3772879836237003\n",
      "Epoch: 28/100 - Average error: 0.3744025193877474\n",
      "Epoch: 29/100 - Average error: 0.37128852555724096\n"
     ]
    },
    {
     "data": {
      "image/png": "[encoded data removed]",
      "text/plain": [
       "<Figure size 640x480 with 1 Axes>"
      ]
     },
     "metadata": {},
     "output_type": "display_data"
    },
    {
     "name": "stdout",
     "output_type": "stream",
     "text": [
      "Epoch: 30/100 - Average error: 0.3676391377425265\n",
      "Epoch: 31/100 - Average error: 0.3637107923449476\n",
      "Epoch: 32/100 - Average error: 0.35999002713199807\n",
      "Epoch: 33/100 - Average error: 0.3564828870100792\n",
      "Epoch: 34/100 - Average error: 0.35319644835373937\n",
      "Epoch: 35/100 - Average error: 0.3501040808968906\n",
      "Epoch: 36/100 - Average error: 0.3472350138237657\n",
      "Epoch: 37/100 - Average error: 0.34453200924052696\n",
      "Epoch: 38/100 - Average error: 0.34204058524423697\n",
      "Epoch: 39/100 - Average error: 0.33969656348681104\n",
      "Epoch: 40/100 - Average error: 0.33740644260356567\n",
      "Epoch: 41/100 - Average error: 0.33524393487821424\n",
      "Epoch: 42/100 - Average error: 0.3331724754013009\n",
      "Epoch: 43/100 - Average error: 0.3311606616531583\n",
      "Epoch: 44/100 - Average error: 0.32919295993849734\n",
      "Epoch: 45/100 - Average error: 0.3273007420949277\n",
      "Epoch: 46/100 - Average error: 0.32548551450415897\n",
      "Epoch: 47/100 - Average error: 0.32376641580328674\n",
      "Epoch: 48/100 - Average error: 0.32211715800083396\n",
      "Epoch: 49/100 - Average error: 0.320541879356071\n",
      "Epoch: 50/100 - Average error: 0.3190354957582974\n",
      "Epoch: 51/100 - Average error: 0.31760103527337874\n",
      "Epoch: 52/100 - Average error: 0.31620276537103625\n",
      "Epoch: 53/100 - Average error: 0.3148403778962304\n",
      "Epoch: 54/100 - Average error: 0.3135228572879169\n",
      "Epoch: 55/100 - Average error: 0.3122529881142533\n",
      "Epoch: 56/100 - Average error: 0.3110296920045543\n",
      "Epoch: 57/100 - Average error: 0.3098674415014135\n",
      "Epoch: 58/100 - Average error: 0.30876150101659083\n",
      "Epoch: 59/100 - Average error: 0.3077025124407772\n"
     ]
    },
    {
     "data": {
      "image/png": "[encoded data removed]",
      "text/plain": [
       "<Figure size 640x480 with 1 Axes>"
      ]
     },
     "metadata": {},
     "output_type": "display_data"
    },
    {
     "name": "stdout",
     "output_type": "stream",
     "text": [
      "Epoch: 60/100 - Average error: 0.30629796990853747\n",
      "Epoch: 61/100 - Average error: 0.3045807937142392\n",
      "Epoch: 62/100 - Average error: 0.30295889854899255\n",
      "Epoch: 63/100 - Average error: 0.3014075712350439\n",
      "Epoch: 64/100 - Average error: 0.2999300827983129\n",
      "Epoch: 65/100 - Average error: 0.2985239594260039\n",
      "Epoch: 66/100 - Average error: 0.29719463286454345\n",
      "Epoch: 67/100 - Average error: 0.29591011550452306\n",
      "Epoch: 68/100 - Average error: 0.29465527442420786\n",
      "Epoch: 69/100 - Average error: 0.293459620200369\n",
      "Epoch: 70/100 - Average error: 0.29231382056556376\n",
      "Epoch: 71/100 - Average error: 0.2912225637487073\n",
      "Epoch: 72/100 - Average error: 0.29019592452234794\n",
      "Epoch: 73/100 - Average error: 0.28922517689258653\n",
      "Epoch: 74/100 - Average error: 0.2883076568606754\n",
      "Epoch: 75/100 - Average error: 0.2874294306099733\n",
      "Epoch: 76/100 - Average error: 0.28658888306784386\n",
      "Epoch: 77/100 - Average error: 0.28578358957932737\n",
      "Epoch: 78/100 - Average error: 0.2850144537641362\n",
      "Epoch: 79/100 - Average error: 0.28428796987041105\n",
      "Epoch: 80/100 - Average error: 0.28359776970419953\n",
      "Epoch: 81/100 - Average error: 0.28292933490769406\n",
      "Epoch: 82/100 - Average error: 0.2822731482885232\n",
      "Epoch: 83/100 - Average error: 0.2816305433291449\n",
      "Epoch: 84/100 - Average error: 0.2810210369702983\n",
      "Epoch: 85/100 - Average error: 0.2804398944128597\n",
      "Epoch: 86/100 - Average error: 0.27988428442200025\n",
      "Epoch: 87/100 - Average error: 0.2793554047136766\n",
      "Epoch: 88/100 - Average error: 0.2788540223905686\n",
      "Epoch: 89/100 - Average error: 0.2783746067536218\n"
     ]
    },
    {
     "data": {
      "image/png": "[encoded data removed]",
      "text/plain": [
       "<Figure size 640x480 with 1 Axes>"
      ]
     },
     "metadata": {},
     "output_type": "display_data"
    },
    {
     "name": "stdout",
     "output_type": "stream",
     "text": [
      "Epoch: 90/100 - Average error: 0.27763069355484693\n",
      "Epoch: 91/100 - Average error: 0.2766485238489153\n",
      "Epoch: 92/100 - Average error: 0.27571272279046577\n",
      "Epoch: 93/100 - Average error: 0.2748116826506168\n",
      "Epoch: 94/100 - Average error: 0.27395406686289475\n",
      "Epoch: 95/100 - Average error: 0.2731343710336729\n",
      "Epoch: 96/100 - Average error: 0.2723527937891958\n",
      "Epoch: 97/100 - Average error: 0.2716132301088103\n",
      "Epoch: 98/100 - Average error: 0.2709081927971983\n",
      "Epoch: 99/100 - Average error: 0.27022752104600867\n"
     ]
    }
   ],
   "source": [
    "num_epochs = 100 # number of epochs to run for - terminating condition\n",
    "cur_lr = init_lr\n",
    "cur_radius = init_radius\n",
    "for epoch in range(num_epochs):\n",
    "    quant_error = 0\n",
    "    for idx, record in norm_health_df.iloc[:].iterrows():\n",
    "        record_values = np.asarray(record[health_variables].values, dtype=np.float64)\n",
    "        min_dist, min_row, min_col = get_best_match(SOM, record_values)\n",
    "        quant_error += min_dist\n",
    "        # print(f\"Record index: {idx}, Nearest SOM element at (row, col): ({min_row}, {min_col})\")\n",
    "\n",
    "        update_weights(SOM, record_values, min_row, min_col, cur_lr, cur_radius)\n",
    "        \n",
    "    quant_error = quant_error / norm_health_df.shape[0]\n",
    "    print(f\"Epoch: {epoch}/{num_epochs} - Average error: {quant_error}\")\n",
    "\n",
    "    if (epoch+1) % 30 == 0:\n",
    "        visualise_som(SOM)\n",
    "        cur_lr *= lr_decay\n",
    "        cur_radius *= radius_decay\n"
   ]
  },
  {
   "cell_type": "markdown",
   "metadata": {},
   "source": [
    "### Final SOM Grid"
   ]
  },
  {
   "cell_type": "code",
   "execution_count": 22,
   "metadata": {
    "execution": {
     "iopub.execute_input": "2025-04-09T06:09:42.738265Z",
     "iopub.status.busy": "2025-04-09T06:09:42.737945Z",
     "iopub.status.idle": "2025-04-09T06:09:42.816641Z",
     "shell.execute_reply": "2025-04-09T06:09:42.815353Z",
     "shell.execute_reply.started": "2025-04-09T06:09:42.738208Z"
    },
    "trusted": true
   },
   "outputs": [
    {
     "data": {
      "image/png": "[encoded data removed]",
      "text/plain": [
       "<Figure size 640x480 with 1 Axes>"
      ]
     },
     "metadata": {},
     "output_type": "display_data"
    }
   ],
   "source": [
    "clusters = visualise_som(SOM) # Get colors of grid\n",
    "# print(clusters)"
   ]
  },
  {
   "cell_type": "markdown",
   "metadata": {},
   "source": [
    "### Visualising on World Map"
   ]
  },
  {
   "cell_type": "code",
   "execution_count": 23,
   "metadata": {
    "execution": {
     "iopub.execute_input": "2025-04-09T06:09:42.817770Z",
     "iopub.status.busy": "2025-04-09T06:09:42.817499Z",
     "iopub.status.idle": "2025-04-09T06:09:42.824449Z",
     "shell.execute_reply": "2025-04-09T06:09:42.823169Z",
     "shell.execute_reply.started": "2025-04-09T06:09:42.817747Z"
    },
    "trusted": true
   },
   "outputs": [
    {
     "name": "stdout",
     "output_type": "stream",
     "text": [
      "0      AF\n",
      "1      AL\n",
      "2      DZ\n",
      "4      AO\n",
      "5      AG\n",
      "       ..\n",
      "190    VE\n",
      "191    VN\n",
      "192    YE\n",
      "193    ZM\n",
      "194    ZW\n",
      "Name: Abbreviation, Length: 174, dtype: object\n"
     ]
    }
   ],
   "source": [
    "print(norm_health_df['Abbreviation'])"
   ]
  },
  {
   "cell_type": "code",
   "execution_count": 24,
   "metadata": {
    "execution": {
     "iopub.execute_input": "2025-04-09T06:09:42.826246Z",
     "iopub.status.busy": "2025-04-09T06:09:42.825604Z",
     "iopub.status.idle": "2025-04-09T06:09:47.067838Z",
     "shell.execute_reply": "2025-04-09T06:09:47.066512Z",
     "shell.execute_reply.started": "2025-04-09T06:09:42.826155Z"
    },
    "trusted": true
   },
   "outputs": [
    {
     "name": "stdout",
     "output_type": "stream",
     "text": [
      "Requirement already satisfied: geopandas in /home/musab/myenv/lib/python3.12/site-packages (1.0.1)\n",
      "Requirement already satisfied: numpy>=1.22 in /home/musab/myenv/lib/python3.12/site-packages (from geopandas) (2.1.1)\n",
      "Requirement already satisfied: pyogrio>=0.7.2 in /home/musab/myenv/lib/python3.12/site-packages (from geopandas) (0.10.0)\n",
      "Requirement already satisfied: packaging in /home/musab/myenv/lib/python3.12/site-packages (from geopandas) (24.2)\n",
      "Requirement already satisfied: pandas>=1.4.0 in /home/musab/myenv/lib/python3.12/site-packages (from geopandas) (2.2.3)\n",
      "Requirement already satisfied: pyproj>=3.3.0 in /home/musab/myenv/lib/python3.12/site-packages (from geopandas) (3.7.1)\n",
      "Requirement already satisfied: shapely>=2.0.0 in /home/musab/myenv/lib/python3.12/site-packages (from geopandas) (2.1.0)\n",
      "Requirement already satisfied: python-dateutil>=2.8.2 in /home/musab/myenv/lib/python3.12/site-packages (from pandas>=1.4.0->geopandas) (2.9.0.post0)\n",
      "Requirement already satisfied: pytz>=2020.1 in /home/musab/myenv/lib/python3.12/site-packages (from pandas>=1.4.0->geopandas) (2025.1)\n",
      "Requirement already satisfied: tzdata>=2022.7 in /home/musab/myenv/lib/python3.12/site-packages (from pandas>=1.4.0->geopandas) (2025.1)\n",
      "Requirement already satisfied: certifi in /home/musab/myenv/lib/python3.12/site-packages (from pyogrio>=0.7.2->geopandas) (2025.1.31)\n",
      "Requirement already satisfied: six>=1.5 in /home/musab/myenv/lib/python3.12/site-packages (from python-dateutil>=2.8.2->pandas>=1.4.0->geopandas) (1.17.0)\n"
     ]
    }
   ],
   "source": [
    "!pip install geopandas"
   ]
  },
  {
   "cell_type": "code",
   "execution_count": 25,
   "metadata": {
    "execution": {
     "iopub.execute_input": "2025-04-09T06:09:47.076658Z",
     "iopub.status.busy": "2025-04-09T06:09:47.076285Z",
     "iopub.status.idle": "2025-04-09T06:09:47.569604Z",
     "shell.execute_reply": "2025-04-09T06:09:47.568510Z",
     "shell.execute_reply.started": "2025-04-09T06:09:47.076623Z"
    },
    "trusted": true
   },
   "outputs": [
    {
     "data": {
      "image/png": "[encoded data removed]",
      "text/plain": [
       "<Figure size 1000x600 with 1 Axes>"
      ]
     },
     "metadata": {},
     "output_type": "display_data"
    }
   ],
   "source": [
    "import geopandas as gpd\n",
    "\n",
    "# Load GeoDataFrame for world map\n",
    "world = gpd.read_file(\"ne_110m_admin_0_countries/ne_110m_admin_0_countries.shp\")\n",
    "colors = []\n",
    "\n",
    "for iso in world['ISO_A2']:\n",
    "    if iso in norm_health_df['Abbreviation'].values: # Abbreviation contains iso_a2 -> coloring those countries that I have data for\n",
    "        record_values = norm_health_df[norm_health_df['Abbreviation'] == iso]\n",
    "        record_values = np.asarray(record_values[health_variables].values, dtype=np.float64)\n",
    "        _, best_row, best_col = get_best_match(SOM, record_values)\n",
    "        rgb_color = clusters[best_row, best_col]\n",
    "        colors.append(rgb_color)\n",
    "    else:\n",
    "        # If no match is found, color gray\n",
    "        colors.append([0.5, 0.5, 0.5])\n",
    "\n",
    "# Assign colors to the world map based on countries\n",
    "world['color'] = colors\n",
    "\n",
    "# Plot the world map with the RGB colors\n",
    "ax = world.plot(color=world['color'], figsize=(10, 6))\n",
    "\n",
    "# Show the plot\n",
    "plt.show()\n"
   ]
  },
  {
   "cell_type": "markdown",
   "metadata": {},
   "source": [
    "From this visualisation, we see that countries which are normally considered developed seem to have similar healthcare systems. Moreover, countries within the same region tend to have similar health conditions, which is what we expect. One key observation is that Pakistan is anomolous within its own region."
   ]
  }
 ],
 "metadata": {
  "kaggle": {
   "accelerator": "none",
   "dataSources": [
    {
     "datasetId": 3495122,
     "sourceId": 6101670,
     "sourceType": "datasetVersion"
    }
   ],
   "dockerImageVersionId": 30918,
   "isGpuEnabled": false,
   "isInternetEnabled": true,
   "language": "python",
   "sourceType": "notebook"
  },
  "kernelspec": {
   "display_name": "myenv",
   "language": "python",
   "name": "myenv"
  },
  "language_info": {
   "codemirror_mode": {
    "name": "ipython",
    "version": 3
   },
   "file_extension": ".py",
   "mimetype": "text/x-python",
   "name": "python",
   "nbconvert_exporter": "python",
   "pygments_lexer": "ipython3",
   "version": "3.12.3"
  }
 },
 "nbformat": 4,
 "nbformat_minor": 4
}
